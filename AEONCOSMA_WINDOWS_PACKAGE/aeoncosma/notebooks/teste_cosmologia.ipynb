Conteúdo de exemplo: teste_cosmologia.ipynb
