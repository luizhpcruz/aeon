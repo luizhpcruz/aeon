Conteúdo de exemplo: simulacao_qubit.ipynb
